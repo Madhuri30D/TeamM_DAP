{
 "cells": [
  {
   "cell_type": "code",
   "execution_count": 1,
   "id": "1ca31ee3",
   "metadata": {},
   "outputs": [
    {
     "name": "stdout",
     "output_type": "stream",
     "text": [
      "Retrieving notices: ...working... done\n",
      "Collecting package metadata (current_repodata.json): ...working... done\n",
      "Solving environment: ...working... done\n",
      "\n",
      "# All requested packages already installed.\n",
      "\n",
      "\n",
      "Note: you may need to restart the kernel to use updated packages.\n"
     ]
    }
   ],
   "source": [
    "conda install -y pymongo"
   ]
  },
  {
   "cell_type": "code",
   "execution_count": 1,
   "id": "078eeff9",
   "metadata": {},
   "outputs": [],
   "source": [
    "from pymongo import MongoClient\n",
    "client = MongoClient(\"mongodb://%s:%s@127.0.0.1\" % (\"dap\", \"dap\"))"
   ]
  },
  {
   "cell_type": "code",
   "execution_count": 4,
   "id": "5afa694f",
   "metadata": {},
   "outputs": [],
   "source": [
    "#Set Collection\n",
    "Collection = db[\"ireland_population_projection\"] ## Not Needed "
   ]
  },
  {
   "cell_type": "code",
   "execution_count": 5,
   "id": "7662848b",
   "metadata": {},
   "outputs": [],
   "source": [
    "db = client['DAPGRPM_database']\n"
   ]
  },
  {
   "cell_type": "code",
   "execution_count": 6,
   "id": "836113de",
   "metadata": {},
   "outputs": [],
   "source": [
    "#Set Collection\n",
    "Collection = db[\"ireland_population_projection\"]"
   ]
  },
  {
   "cell_type": "code",
   "execution_count": 8,
   "id": "987bac2c",
   "metadata": {},
   "outputs": [],
   "source": [
    "import json\n",
    "# Loading or Opening the json file\n",
    "with open('esri_population_projections_by_local_authority.json') as file:\n",
    "    file_data = json.load(file)\n",
    "     "
   ]
  },
  {
   "cell_type": "code",
   "execution_count": 9,
   "id": "30453373",
   "metadata": {},
   "outputs": [],
   "source": [
    "# Inserting the loaded data in the Mongo DB Collection\n",
    "# if JSON file contains data more than one entry\n",
    "# insert_many is used else insert_one is used\n",
    "if isinstance(file_data, list):\n",
    "    Collection.insert_many(file_data) \n",
    "else:\n",
    "    Collection.insert_one(file_data)"
   ]
  },
  {
   "cell_type": "code",
   "execution_count": 10,
   "id": "b805464e",
   "metadata": {},
   "outputs": [
    {
     "data": {
      "text/plain": [
       "['ireland_population_projection']"
      ]
     },
     "execution_count": 10,
     "metadata": {},
     "output_type": "execute_result"
    }
   ],
   "source": [
    "db.list_collection_names()"
   ]
  },
  {
   "cell_type": "code",
   "execution_count": null,
   "id": "ed02f27d",
   "metadata": {},
   "outputs": [],
   "source": []
  }
 ],
 "metadata": {
  "kernelspec": {
   "display_name": "Python 3 (ipykernel)",
   "language": "python",
   "name": "python3"
  },
  "language_info": {
   "codemirror_mode": {
    "name": "ipython",
    "version": 3
   },
   "file_extension": ".py",
   "mimetype": "text/x-python",
   "name": "python",
   "nbconvert_exporter": "python",
   "pygments_lexer": "ipython3",
   "version": "3.9.12"
  }
 },
 "nbformat": 4,
 "nbformat_minor": 5
}
